{
  "nbformat": 4,
  "nbformat_minor": 0,
  "metadata": {
    "colab": {
      "provenance": [],
      "authorship_tag": "ABX9TyPfsdN00CeN4qod4htFY/xb",
      "include_colab_link": true
    },
    "kernelspec": {
      "name": "python3",
      "display_name": "Python 3"
    },
    "language_info": {
      "name": "python"
    }
  },
  "cells": [
    {
      "cell_type": "markdown",
      "metadata": {
        "id": "view-in-github",
        "colab_type": "text"
      },
      "source": [
        "<a href=\"https://colab.research.google.com/github/lbattioni/DS_coder_house/blob/main/ProyectoDS_parteI_Battioni.ipynb\" target=\"_parent\"><img src=\"https://colab.research.google.com/assets/colab-badge.svg\" alt=\"Open In Colab\"/></a>"
      ]
    },
    {
      "cell_type": "markdown",
      "source": [
        "# Proyecto DS parte 1.\n",
        "###  **Alumno**: Luciano Battioni\n",
        "---\n",
        "## Abstract\n",
        "\n",
        "Las enfermedades cardiovasculares son la principal causa de muerte a nivel mundial. Dentro de estas la enfermedad coronaria (EC) es la más frecuente.Su importancia global a llevado a investigadores del siglo XX ha desarrollar numerosos modelos predictores de eventos cardiovasculares (infarto agudo de miocardio, accidente cerebrovacular, muerte de causa vascular), tanto para la población general como para poblaciones particularmente vulnerables (pacientes diabéticos, pacientes con enfermedad renal crónica, etc.) con la esperanza de poder intervenir terapeúticamente y poder prevenirlos. Sin embargo, su validez externa y generalizabilidad han demostrado tener importantes limitaciones. Esto se ha debido, entre otras causas, a que se derivaron de cohortes de bajo número de pacientes, poco representativas de determinadas etnias o se construyeron pensando en la factibilidad de ser usados en consultorio por lo que solo utilizan variables seleccionadas, comprometiendo, tal vez, parte su precisión.\n",
        "\n",
        "Las tecnicas de *Machine learning* (ML) procesan gran cantidad de variables sin necesidad de intervención de un clínico. Esto haría factible la implementación de modelos más precisos, dezplegables en ámbitos como EHR (*Electronic Health Records*) que permitan la estimación de riesgo cardiovascular en base a la información proporcionada por el sistema de manera automática.\n",
        "\n",
        "El objetivo final del presente trabajo es generar un ML que permita predecir el evento de infarto agudo de miocardio en base a las variables de esta base sintética.\n",
        "\n",
        "Para el primer entregable trabajaremos e intentaremos comprobar las siguientes hipótesis:\n",
        "\n",
        "1. One\n",
        "1. Two\n",
        "1. Three\n",
        "\n",
        "\n"
      ],
      "metadata": {
        "id": "dD3o7jBPXpEr"
      }
    },
    {
      "cell_type": "markdown",
      "source": [
        "# Importo paquetes"
      ],
      "metadata": {
        "id": "CpyEMpZaU-I0"
      }
    },
    {
      "cell_type": "code",
      "execution_count": 1,
      "metadata": {
        "id": "rEMAPpidUm9E"
      },
      "outputs": [],
      "source": [
        "import pandas as pd\n",
        "import numpy as np\n",
        "import seaborn as sns\n",
        "import matplotlib.pyplot as plt"
      ]
    },
    {
      "cell_type": "code",
      "source": [
        "# cargo data frame desde mi repositorio en GitHub\n",
        "df_raw=pd.read_csv('https://raw.githubusercontent.com/lbattioni/DS_coder_house/main/heart_attack_prediction_dataset_sintetica.csv',sep=';')"
      ],
      "metadata": {
        "id": "VgNdlD5VU8ve"
      },
      "execution_count": 7,
      "outputs": []
    }
  ]
}